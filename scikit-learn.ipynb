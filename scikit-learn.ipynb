{
 "cells": [
  {
   "cell_type": "markdown",
   "id": "2c88fb0f",
   "metadata": {},
   "source": [
    "#### Machine Learning and Statistics - 2021 Project Submission\n",
    "\n",
    "#### GMIT Higher Diploma in Data Analytics\n",
    "\n",
    "#### Submitted by Fiona Lee - 2 January 2022\n",
    "<br/>"
   ]
  },
  {
   "cell_type": "markdown",
   "id": "803e71cb",
   "metadata": {},
   "source": [
    "### Overview of the Scikit-learn python library\n",
    "___________________"
   ]
  },
  {
   "cell_type": "markdown",
   "id": "d216dd58",
   "metadata": {},
   "source": [
    "#### Development of Scikit-Learn\n",
    "Scikit-learn was originally called 'scikits.learn'.  It was initially developed by David Cournapeau in 2007 and was further developed by Fabian Pedregosa, Gael Varoquaux, Alexandre Gramfort, and Vincent Michel, from FIRCA (French Institute for Research in Computer Science and Automation) in 2010. [1]\n",
    "\n",
    "#### What is Scikit-Learn?\n",
    "Scikit-learn (Sklearn) is an open-source package renowned for being the most robust library for creating and evaluating machine learning models in Python.  Skikit learn tools for machine learning and statistical modeling include classification, regression, clustering and dimensionality reduction. [2] \n"
   ]
  },
  {
   "cell_type": "markdown",
   "id": "fb6a6b53",
   "metadata": {},
   "source": [
    "#### What does Scikit-Learn do & what is is it used for?\n",
    "\n",
    "Scikit-Learn evaluates different algorithms against each using machine learning.  Scikit-learn also includes a model evaluation and selection frameworks to confirm that the best model possible as been used. [3]"
   ]
  },
  {
   "cell_type": "markdown",
   "id": "e98422fd",
   "metadata": {},
   "source": [
    "#### Inputs (Attributes/ Predictors / Features):\n",
    "\n",
    "- **Features** − The variables of data are called its features. \n",
    "- **Feature Matrix** − Collection of features (if more than one)\n",
    "- **Feature Names** − List of all the names of the features\n",
    "\n",
    "#### Outputs (Targets / Labels / Responses):\n",
    " \n",
    "- **Response** − The output variable that is determined by the feature variables. Also known as target, label or output.\n",
    "- **Response Vector** − Represents the response column (usually just one)\n",
    "- **Target Names** − Represents the possible values taken by a response vector"
   ]
  },
  {
   "cell_type": "markdown",
   "id": "4b77fe08",
   "metadata": {},
   "source": [
    "#### Installation [4]:\n",
    "\n",
    "*The following commands can be used to install scikit-learn:*\n",
    "\n",
    "via pip: \n",
    "pip install -U scikit-learn\n",
    "\n",
    "via conda: \n",
    "conda install scikit-learn"
   ]
  },
  {
   "cell_type": "markdown",
   "id": "0eb734f3",
   "metadata": {},
   "source": [
    "### Types of Machine Learning\n",
    "____________________________\n",
    "Machine Learning can be approched using 'Supervised' and 'Unsupervised' methods"
   ]
  },
  {
   "cell_type": "markdown",
   "id": "c3a1ff83",
   "metadata": {},
   "source": [
    "### Supervised Machine Learning\n",
    "\n",
    "In supervised learning the dataset has both input and output variables (x and y).  All data is labeled and the algorithm learns to predict the output from the input data using an approximate mapping function.  \n",
    "\n",
    "The goal of supervised learning is to accurately predict the output variable (y) for new input data (x) entered. The algorithm iteratively makes predictions on the training data and is corrected as it learns until it achieves an acceptable level of performance.\n",
    "\n",
    "##### Supervised machine learning is grouped as follows:\n",
    " \n",
    "**Classification:** A classification problem is when the output variable is a category, such as “species” in the iris dataset or “sex” in the abalone dataset.\n",
    "\n",
    "**Regression**: A regression problem is when the output variable is a value, such as “sepal length” or “age (number of rings)”.\n",
    "\n",
    "**Popular Supervised Learning Algorithms:**\n",
    "\n",
    "- Linear regression - Regression problems\n",
    "- Logistic regression - Regression problems\n",
    "- Kneighbors - Classification/Regression problems\n",
    "- Random forest - Classification/Regression problems\n",
    "- Gradient boosting algorithm - Classification/Regression problems\n",
    "- AdaBoosting algorithm - Classification problems\n",
    "- Decision tree - Classification problems\n",
    "- Support Vector Machines (SVM) - Classification problems\n",
    "- Naive Bayes algorithm - Classification problems"
   ]
  },
  {
   "cell_type": "markdown",
   "id": "baeaa0a0",
   "metadata": {},
   "source": [
    "### Unsupervised Machine Learning\n",
    "\n",
    "Unsupervised learning uses machine learning algorithms to analyze and cluster unlabeled datasets.  The datasets contain input data (x) but no corresponding output (y) variables to base the predictions on so the algorithm learns the inherent structure of the input data by finding hidden patterns and insights. \n",
    "\n",
    "The goal for unsupervised learning is to model the input data in order to explore and learn more about the dataset.\n",
    "\n",
    "##### Unsupervised machine learning is grouped as follows:\n",
    " \n",
    "**Clustering:** Groups similar objects in an unlabeled dataset into clusters\n",
    "\n",
    "**Association Rule**: Uses frequent data points to create association rules \n",
    "\n",
    "**Dimensionality Reduction (Factor Analysis)**: Reduces the number of attributes in a dataset which can be further used for summarisation, visualisation and feature selection\n",
    "\n",
    "**Unsupervised Learning Algorithms:** [5] ,[6], [7], [8]\n",
    "\n",
    "- K-means - Clustering problems\n",
    "- Apriori algorithm - Association rule problems in transactional databases.\n",
    "- PCA (Principal Component Analysis - Dimensionality reduction\n",
    "- Cross Validation** − Checks the accuracy of supervised models on unseen data (Model Selection)\n",
    "- Ensemble methods** − Combines the predictions of multiple supervised models\n",
    "- Feature extraction** − Extracts the features from data to define the attributes in image and text data (Pre Processing)\n",
    "- Feature selection** − Identifies useful attributes to create supervised models"
   ]
  },
  {
   "cell_type": "markdown",
   "id": "2e9f1ee0",
   "metadata": {},
   "source": [
    "### Import Modules\n",
    "____________________"
   ]
  },
  {
   "cell_type": "code",
   "execution_count": 1,
   "id": "150b1afe",
   "metadata": {},
   "outputs": [],
   "source": [
    "import pandas as pd\n",
    "import numpy as np\n",
    "import matplotlib.pyplot as plt\n",
    "import seaborn as sns\n",
    "import sklearn.model_selection as mod  # Model selection\n",
    "import sklearn.linear_model as lm  # Logistic regression\n",
    "#import sklearn.neighbors as nei    # K nearest neighbours\n",
    "#from sklearn.linear_model import LogisticRegression as log\n",
    "from sklearn.metrics import accuracy_score, precision_score, confusion_matrix as score\n",
    "from sklearn.model_selection import train_test_split\n",
    "from sklearn.tree import DecisionTreeClassifier\n",
    "from sklearn.svm import SVR\n",
    "#from sklearn.neighbors import KNeighborsRegressor\n",
    "from sklearn.ensemble import RandomForestClassifier\n",
    "from sklearn import metrics\n",
    "from sklearn.metrics import classification_report, confusion_matrix"
   ]
  },
  {
   "cell_type": "markdown",
   "id": "9d676a5f",
   "metadata": {},
   "source": [
    "<br/>\n",
    "\n",
    "### Classification analysis on the Wine Quality Data Set\n",
    "__________________"
   ]
  },
  {
   "cell_type": "markdown",
   "id": "4a60a5ba",
   "metadata": {},
   "source": [
    "#### Analysing The Wine Quality Dataset\n",
    "***"
   ]
  },
  {
   "cell_type": "markdown",
   "id": "ba4eba7e",
   "metadata": {},
   "source": [
    "#### Purpose of the Analysis\n",
    "\n",
    "The purpose of the analysis of the dataset is to predict the quality of a wine sample from its attributes (features) using machine learning methods."
   ]
  },
  {
   "cell_type": "code",
   "execution_count": 2,
   "id": "517dbaaa",
   "metadata": {},
   "outputs": [
    {
     "data": {
      "text/html": [
       "<div>\n",
       "<style scoped>\n",
       "    .dataframe tbody tr th:only-of-type {\n",
       "        vertical-align: middle;\n",
       "    }\n",
       "\n",
       "    .dataframe tbody tr th {\n",
       "        vertical-align: top;\n",
       "    }\n",
       "\n",
       "    .dataframe thead th {\n",
       "        text-align: right;\n",
       "    }\n",
       "</style>\n",
       "<table border=\"1\" class=\"dataframe\">\n",
       "  <thead>\n",
       "    <tr style=\"text-align: right;\">\n",
       "      <th></th>\n",
       "      <th>fixed acidity</th>\n",
       "      <th>volatile acidity</th>\n",
       "      <th>citric acid</th>\n",
       "      <th>residual sugar</th>\n",
       "      <th>chlorides</th>\n",
       "      <th>free sulfur dioxide</th>\n",
       "      <th>total sulfur dioxide</th>\n",
       "      <th>density</th>\n",
       "      <th>pH</th>\n",
       "      <th>sulphates</th>\n",
       "      <th>alcohol</th>\n",
       "      <th>quality</th>\n",
       "    </tr>\n",
       "  </thead>\n",
       "  <tbody>\n",
       "    <tr>\n",
       "      <th>count</th>\n",
       "      <td>1599.000</td>\n",
       "      <td>1599.000</td>\n",
       "      <td>1599.000</td>\n",
       "      <td>1599.000</td>\n",
       "      <td>1599.000</td>\n",
       "      <td>1599.000</td>\n",
       "      <td>1599.000</td>\n",
       "      <td>1599.000</td>\n",
       "      <td>1599.000</td>\n",
       "      <td>1599.000</td>\n",
       "      <td>1599.000</td>\n",
       "      <td>1599.000</td>\n",
       "    </tr>\n",
       "    <tr>\n",
       "      <th>mean</th>\n",
       "      <td>8.320</td>\n",
       "      <td>0.528</td>\n",
       "      <td>0.271</td>\n",
       "      <td>2.539</td>\n",
       "      <td>0.087</td>\n",
       "      <td>15.875</td>\n",
       "      <td>46.468</td>\n",
       "      <td>0.997</td>\n",
       "      <td>3.311</td>\n",
       "      <td>0.658</td>\n",
       "      <td>10.423</td>\n",
       "      <td>5.636</td>\n",
       "    </tr>\n",
       "    <tr>\n",
       "      <th>std</th>\n",
       "      <td>1.741</td>\n",
       "      <td>0.179</td>\n",
       "      <td>0.195</td>\n",
       "      <td>1.410</td>\n",
       "      <td>0.047</td>\n",
       "      <td>10.460</td>\n",
       "      <td>32.895</td>\n",
       "      <td>0.002</td>\n",
       "      <td>0.154</td>\n",
       "      <td>0.170</td>\n",
       "      <td>1.066</td>\n",
       "      <td>0.808</td>\n",
       "    </tr>\n",
       "    <tr>\n",
       "      <th>min</th>\n",
       "      <td>4.600</td>\n",
       "      <td>0.120</td>\n",
       "      <td>0.000</td>\n",
       "      <td>0.900</td>\n",
       "      <td>0.012</td>\n",
       "      <td>1.000</td>\n",
       "      <td>6.000</td>\n",
       "      <td>0.990</td>\n",
       "      <td>2.740</td>\n",
       "      <td>0.330</td>\n",
       "      <td>8.400</td>\n",
       "      <td>3.000</td>\n",
       "    </tr>\n",
       "    <tr>\n",
       "      <th>25%</th>\n",
       "      <td>7.100</td>\n",
       "      <td>0.390</td>\n",
       "      <td>0.090</td>\n",
       "      <td>1.900</td>\n",
       "      <td>0.070</td>\n",
       "      <td>7.000</td>\n",
       "      <td>22.000</td>\n",
       "      <td>0.996</td>\n",
       "      <td>3.210</td>\n",
       "      <td>0.550</td>\n",
       "      <td>9.500</td>\n",
       "      <td>5.000</td>\n",
       "    </tr>\n",
       "    <tr>\n",
       "      <th>50%</th>\n",
       "      <td>7.900</td>\n",
       "      <td>0.520</td>\n",
       "      <td>0.260</td>\n",
       "      <td>2.200</td>\n",
       "      <td>0.079</td>\n",
       "      <td>14.000</td>\n",
       "      <td>38.000</td>\n",
       "      <td>0.997</td>\n",
       "      <td>3.310</td>\n",
       "      <td>0.620</td>\n",
       "      <td>10.200</td>\n",
       "      <td>6.000</td>\n",
       "    </tr>\n",
       "    <tr>\n",
       "      <th>75%</th>\n",
       "      <td>9.200</td>\n",
       "      <td>0.640</td>\n",
       "      <td>0.420</td>\n",
       "      <td>2.600</td>\n",
       "      <td>0.090</td>\n",
       "      <td>21.000</td>\n",
       "      <td>62.000</td>\n",
       "      <td>0.998</td>\n",
       "      <td>3.400</td>\n",
       "      <td>0.730</td>\n",
       "      <td>11.100</td>\n",
       "      <td>6.000</td>\n",
       "    </tr>\n",
       "    <tr>\n",
       "      <th>max</th>\n",
       "      <td>15.900</td>\n",
       "      <td>1.580</td>\n",
       "      <td>1.000</td>\n",
       "      <td>15.500</td>\n",
       "      <td>0.611</td>\n",
       "      <td>72.000</td>\n",
       "      <td>289.000</td>\n",
       "      <td>1.004</td>\n",
       "      <td>4.010</td>\n",
       "      <td>2.000</td>\n",
       "      <td>14.900</td>\n",
       "      <td>8.000</td>\n",
       "    </tr>\n",
       "  </tbody>\n",
       "</table>\n",
       "</div>"
      ],
      "text/plain": [
       "       fixed acidity  volatile acidity  citric acid  residual sugar  \\\n",
       "count       1599.000          1599.000     1599.000        1599.000   \n",
       "mean           8.320             0.528        0.271           2.539   \n",
       "std            1.741             0.179        0.195           1.410   \n",
       "min            4.600             0.120        0.000           0.900   \n",
       "25%            7.100             0.390        0.090           1.900   \n",
       "50%            7.900             0.520        0.260           2.200   \n",
       "75%            9.200             0.640        0.420           2.600   \n",
       "max           15.900             1.580        1.000          15.500   \n",
       "\n",
       "       chlorides  free sulfur dioxide  total sulfur dioxide   density  \\\n",
       "count   1599.000             1599.000              1599.000  1599.000   \n",
       "mean       0.087               15.875                46.468     0.997   \n",
       "std        0.047               10.460                32.895     0.002   \n",
       "min        0.012                1.000                 6.000     0.990   \n",
       "25%        0.070                7.000                22.000     0.996   \n",
       "50%        0.079               14.000                38.000     0.997   \n",
       "75%        0.090               21.000                62.000     0.998   \n",
       "max        0.611               72.000               289.000     1.004   \n",
       "\n",
       "             pH  sulphates   alcohol   quality  \n",
       "count  1599.000   1599.000  1599.000  1599.000  \n",
       "mean      3.311      0.658    10.423     5.636  \n",
       "std       0.154      0.170     1.066     0.808  \n",
       "min       2.740      0.330     8.400     3.000  \n",
       "25%       3.210      0.550     9.500     5.000  \n",
       "50%       3.310      0.620    10.200     6.000  \n",
       "75%       3.400      0.730    11.100     6.000  \n",
       "max       4.010      2.000    14.900     8.000  "
      ]
     },
     "execution_count": 2,
     "metadata": {},
     "output_type": "execute_result"
    }
   ],
   "source": [
    "# Read in the data\n",
    "wine_df = pd.DataFrame(pd.read_csv(\"winequality-red.csv\"))\n",
    "pd.set_option(\"display.precision\", 3)\n",
    "wine_df.describe()"
   ]
  },
  {
   "cell_type": "code",
   "execution_count": 3,
   "id": "a20ed5df",
   "metadata": {},
   "outputs": [
    {
     "data": {
      "text/plain": [
       "(1599, 12)"
      ]
     },
     "execution_count": 3,
     "metadata": {},
     "output_type": "execute_result"
    }
   ],
   "source": [
    "# Number of rows & columns\n",
    "wine_df.shape"
   ]
  },
  {
   "cell_type": "code",
   "execution_count": 4,
   "id": "b2a60dce",
   "metadata": {},
   "outputs": [],
   "source": [
    "# Check for zero values in the dataset\n",
    "# wine_df.min()\n",
    "# Note, no zero values present"
   ]
  },
  {
   "cell_type": "code",
   "execution_count": 5,
   "id": "1c11998a",
   "metadata": {},
   "outputs": [],
   "source": [
    "# Option to print the dataset and highlight any null values in red\n",
    "# print(wine_df.isna().sum())\n",
    "# Note, no null values present"
   ]
  },
  {
   "cell_type": "code",
   "execution_count": 6,
   "id": "9b895f26",
   "metadata": {},
   "outputs": [
    {
     "data": {
      "image/png": "[encoded data removed]",
      "text/plain": [
       "<Figure size 432x288 with 1 Axes>"
      ]
     },
     "metadata": {
      "needs_background": "light"
     },
     "output_type": "display_data"
    }
   ],
   "source": [
    "# Distribution of the Quality values in the dataset\n",
    "sns.countplot(x = wine_df.quality)\n",
    "plt.show()"
   ]
  },
  {
   "cell_type": "markdown",
   "id": "f3697b15",
   "metadata": {},
   "source": [
    "##### Correlation"
   ]
  },
  {
   "cell_type": "code",
   "execution_count": 7,
   "id": "a291ba6f",
   "metadata": {},
   "outputs": [
    {
     "data": {
      "image/png": "[encoded data removed]",
      "text/plain": [
       "<Figure size 720x720 with 2 Axes>"
      ]
     },
     "metadata": {
      "needs_background": "light"
     },
     "output_type": "display_data"
    }
   ],
   "source": [
    "# Heatmap to determine the greatest correlation between the variables in the dataset\n",
    "plt.figure(figsize=(10, 10))\n",
    "corr = wine_df.corr()\n",
    "_ = sns.heatmap(corr, annot=True)"
   ]
  },
  {
   "cell_type": "code",
   "execution_count": 8,
   "id": "99f579ef",
   "metadata": {},
   "outputs": [],
   "source": [
    "# Group quality values into a classification variable (Excellent > 7, Good 5-7 and Poor 1-4 Ratings)\n",
    "wine_df[\"quality\"] = wine_df[\"quality\"].replace(1,'Poor')\n",
    "wine_df[\"quality\"] = wine_df[\"quality\"].replace(2,'Poor')\n",
    "wine_df[\"quality\"] = wine_df[\"quality\"].replace(3,'Poor')\n",
    "wine_df[\"quality\"] = wine_df[\"quality\"].replace(4,'Poor')\n",
    "wine_df[\"quality\"] = wine_df[\"quality\"].replace(5,'Good')\n",
    "wine_df[\"quality\"] = wine_df[\"quality\"].replace(6,'Good')\n",
    "wine_df[\"quality\"] = wine_df[\"quality\"].replace(7,'Good')\n",
    "wine_df[\"quality\"] = wine_df[\"quality\"].replace(8,'Excellent')\n",
    "wine_df[\"quality\"] = wine_df[\"quality\"].replace(9,'Excellent')\n",
    "wine_df[\"quality\"] = wine_df[\"quality\"].replace(10,'Excellent')"
   ]
  },
  {
   "cell_type": "code",
   "execution_count": 9,
   "id": "f3712778",
   "metadata": {},
   "outputs": [],
   "source": [
    "# Divide the dataset into feature variables and target variable\n",
    "x = wine_df.drop(columns=['quality'])\n",
    "y = wine_df[\"quality\"]"
   ]
  },
  {
   "cell_type": "code",
   "execution_count": 10,
   "id": "19d0a75e",
   "metadata": {},
   "outputs": [
    {
     "data": {
      "text/html": [
       "<div>\n",
       "<style scoped>\n",
       "    .dataframe tbody tr th:only-of-type {\n",
       "        vertical-align: middle;\n",
       "    }\n",
       "\n",
       "    .dataframe tbody tr th {\n",
       "        vertical-align: top;\n",
       "    }\n",
       "\n",
       "    .dataframe thead th {\n",
       "        text-align: right;\n",
       "    }\n",
       "</style>\n",
       "<table border=\"1\" class=\"dataframe\">\n",
       "  <thead>\n",
       "    <tr style=\"text-align: right;\">\n",
       "      <th></th>\n",
       "      <th>fixed acidity</th>\n",
       "      <th>volatile acidity</th>\n",
       "      <th>citric acid</th>\n",
       "      <th>residual sugar</th>\n",
       "      <th>chlorides</th>\n",
       "      <th>free sulfur dioxide</th>\n",
       "      <th>total sulfur dioxide</th>\n",
       "      <th>density</th>\n",
       "      <th>pH</th>\n",
       "      <th>sulphates</th>\n",
       "      <th>alcohol</th>\n",
       "      <th>quality</th>\n",
       "    </tr>\n",
       "  </thead>\n",
       "  <tbody>\n",
       "    <tr>\n",
       "      <th>0</th>\n",
       "      <td>7.4</td>\n",
       "      <td>0.700</td>\n",
       "      <td>0.00</td>\n",
       "      <td>1.9</td>\n",
       "      <td>0.076</td>\n",
       "      <td>11.0</td>\n",
       "      <td>34.0</td>\n",
       "      <td>0.998</td>\n",
       "      <td>3.51</td>\n",
       "      <td>0.56</td>\n",
       "      <td>9.4</td>\n",
       "      <td>Good</td>\n",
       "    </tr>\n",
       "    <tr>\n",
       "      <th>1</th>\n",
       "      <td>7.8</td>\n",
       "      <td>0.880</td>\n",
       "      <td>0.00</td>\n",
       "      <td>2.6</td>\n",
       "      <td>0.098</td>\n",
       "      <td>25.0</td>\n",
       "      <td>67.0</td>\n",
       "      <td>0.997</td>\n",
       "      <td>3.20</td>\n",
       "      <td>0.68</td>\n",
       "      <td>9.8</td>\n",
       "      <td>Good</td>\n",
       "    </tr>\n",
       "    <tr>\n",
       "      <th>2</th>\n",
       "      <td>7.8</td>\n",
       "      <td>0.760</td>\n",
       "      <td>0.04</td>\n",
       "      <td>2.3</td>\n",
       "      <td>0.092</td>\n",
       "      <td>15.0</td>\n",
       "      <td>54.0</td>\n",
       "      <td>0.997</td>\n",
       "      <td>3.26</td>\n",
       "      <td>0.65</td>\n",
       "      <td>9.8</td>\n",
       "      <td>Good</td>\n",
       "    </tr>\n",
       "    <tr>\n",
       "      <th>3</th>\n",
       "      <td>11.2</td>\n",
       "      <td>0.280</td>\n",
       "      <td>0.56</td>\n",
       "      <td>1.9</td>\n",
       "      <td>0.075</td>\n",
       "      <td>17.0</td>\n",
       "      <td>60.0</td>\n",
       "      <td>0.998</td>\n",
       "      <td>3.16</td>\n",
       "      <td>0.58</td>\n",
       "      <td>9.8</td>\n",
       "      <td>Good</td>\n",
       "    </tr>\n",
       "    <tr>\n",
       "      <th>4</th>\n",
       "      <td>7.4</td>\n",
       "      <td>0.700</td>\n",
       "      <td>0.00</td>\n",
       "      <td>1.9</td>\n",
       "      <td>0.076</td>\n",
       "      <td>11.0</td>\n",
       "      <td>34.0</td>\n",
       "      <td>0.998</td>\n",
       "      <td>3.51</td>\n",
       "      <td>0.56</td>\n",
       "      <td>9.4</td>\n",
       "      <td>Good</td>\n",
       "    </tr>\n",
       "    <tr>\n",
       "      <th>...</th>\n",
       "      <td>...</td>\n",
       "      <td>...</td>\n",
       "      <td>...</td>\n",
       "      <td>...</td>\n",
       "      <td>...</td>\n",
       "      <td>...</td>\n",
       "      <td>...</td>\n",
       "      <td>...</td>\n",
       "      <td>...</td>\n",
       "      <td>...</td>\n",
       "      <td>...</td>\n",
       "      <td>...</td>\n",
       "    </tr>\n",
       "    <tr>\n",
       "      <th>1594</th>\n",
       "      <td>6.2</td>\n",
       "      <td>0.600</td>\n",
       "      <td>0.08</td>\n",
       "      <td>2.0</td>\n",
       "      <td>0.090</td>\n",
       "      <td>32.0</td>\n",
       "      <td>44.0</td>\n",
       "      <td>0.995</td>\n",
       "      <td>3.45</td>\n",
       "      <td>0.58</td>\n",
       "      <td>10.5</td>\n",
       "      <td>Good</td>\n",
       "    </tr>\n",
       "    <tr>\n",
       "      <th>1595</th>\n",
       "      <td>5.9</td>\n",
       "      <td>0.550</td>\n",
       "      <td>0.10</td>\n",
       "      <td>2.2</td>\n",
       "      <td>0.062</td>\n",
       "      <td>39.0</td>\n",
       "      <td>51.0</td>\n",
       "      <td>0.995</td>\n",
       "      <td>3.52</td>\n",
       "      <td>0.76</td>\n",
       "      <td>11.2</td>\n",
       "      <td>Good</td>\n",
       "    </tr>\n",
       "    <tr>\n",
       "      <th>1596</th>\n",
       "      <td>6.3</td>\n",
       "      <td>0.510</td>\n",
       "      <td>0.13</td>\n",
       "      <td>2.3</td>\n",
       "      <td>0.076</td>\n",
       "      <td>29.0</td>\n",
       "      <td>40.0</td>\n",
       "      <td>0.996</td>\n",
       "      <td>3.42</td>\n",
       "      <td>0.75</td>\n",
       "      <td>11.0</td>\n",
       "      <td>Good</td>\n",
       "    </tr>\n",
       "    <tr>\n",
       "      <th>1597</th>\n",
       "      <td>5.9</td>\n",
       "      <td>0.645</td>\n",
       "      <td>0.12</td>\n",
       "      <td>2.0</td>\n",
       "      <td>0.075</td>\n",
       "      <td>32.0</td>\n",
       "      <td>44.0</td>\n",
       "      <td>0.995</td>\n",
       "      <td>3.57</td>\n",
       "      <td>0.71</td>\n",
       "      <td>10.2</td>\n",
       "      <td>Good</td>\n",
       "    </tr>\n",
       "    <tr>\n",
       "      <th>1598</th>\n",
       "      <td>6.0</td>\n",
       "      <td>0.310</td>\n",
       "      <td>0.47</td>\n",
       "      <td>3.6</td>\n",
       "      <td>0.067</td>\n",
       "      <td>18.0</td>\n",
       "      <td>42.0</td>\n",
       "      <td>0.995</td>\n",
       "      <td>3.39</td>\n",
       "      <td>0.66</td>\n",
       "      <td>11.0</td>\n",
       "      <td>Good</td>\n",
       "    </tr>\n",
       "  </tbody>\n",
       "</table>\n",
       "<p>1599 rows × 12 columns</p>\n",
       "</div>"
      ],
      "text/plain": [
       "      fixed acidity  volatile acidity  citric acid  residual sugar  chlorides  \\\n",
       "0               7.4             0.700         0.00             1.9      0.076   \n",
       "1               7.8             0.880         0.00             2.6      0.098   \n",
       "2               7.8             0.760         0.04             2.3      0.092   \n",
       "3              11.2             0.280         0.56             1.9      0.075   \n",
       "4               7.4             0.700         0.00             1.9      0.076   \n",
       "...             ...               ...          ...             ...        ...   \n",
       "1594            6.2             0.600         0.08             2.0      0.090   \n",
       "1595            5.9             0.550         0.10             2.2      0.062   \n",
       "1596            6.3             0.510         0.13             2.3      0.076   \n",
       "1597            5.9             0.645         0.12             2.0      0.075   \n",
       "1598            6.0             0.310         0.47             3.6      0.067   \n",
       "\n",
       "      free sulfur dioxide  total sulfur dioxide  density    pH  sulphates  \\\n",
       "0                    11.0                  34.0    0.998  3.51       0.56   \n",
       "1                    25.0                  67.0    0.997  3.20       0.68   \n",
       "2                    15.0                  54.0    0.997  3.26       0.65   \n",
       "3                    17.0                  60.0    0.998  3.16       0.58   \n",
       "4                    11.0                  34.0    0.998  3.51       0.56   \n",
       "...                   ...                   ...      ...   ...        ...   \n",
       "1594                 32.0                  44.0    0.995  3.45       0.58   \n",
       "1595                 39.0                  51.0    0.995  3.52       0.76   \n",
       "1596                 29.0                  40.0    0.996  3.42       0.75   \n",
       "1597                 32.0                  44.0    0.995  3.57       0.71   \n",
       "1598                 18.0                  42.0    0.995  3.39       0.66   \n",
       "\n",
       "      alcohol quality  \n",
       "0         9.4    Good  \n",
       "1         9.8    Good  \n",
       "2         9.8    Good  \n",
       "3         9.8    Good  \n",
       "4         9.4    Good  \n",
       "...       ...     ...  \n",
       "1594     10.5    Good  \n",
       "1595     11.2    Good  \n",
       "1596     11.0    Good  \n",
       "1597     10.2    Good  \n",
       "1598     11.0    Good  \n",
       "\n",
       "[1599 rows x 12 columns]"
      ]
     },
     "execution_count": 10,
     "metadata": {},
     "output_type": "execute_result"
    }
   ],
   "source": [
    "wine_df"
   ]
  },
  {
   "cell_type": "code",
   "execution_count": 11,
   "id": "97db139c",
   "metadata": {},
   "outputs": [
    {
     "data": {
      "image/png": "[encoded data removed]",
      "text/plain": [
       "<Figure size 432x288 with 1 Axes>"
      ]
     },
     "metadata": {
      "needs_background": "light"
     },
     "output_type": "display_data"
    }
   ],
   "source": [
    "# Distribution of the excellent, good and poor quality values in the dataset\n",
    "sns.countplot(x = wine_df.quality)\n",
    "plt.show()"
   ]
  },
  {
   "cell_type": "markdown",
   "id": "2c5d0557",
   "metadata": {},
   "source": [
    "### Method 1. Modelling the data using Random Forests Classifer on the Wine Quality Dataset\n",
    "***"
   ]
  },
  {
   "cell_type": "code",
   "execution_count": 12,
   "id": "f948f527",
   "metadata": {},
   "outputs": [],
   "source": [
    "# Split the data\n",
    "x_train, x_test, y_train, y_test = train_test_split(x, y, random_state=0, test_size = 0.2)"
   ]
  },
  {
   "cell_type": "code",
   "execution_count": 13,
   "id": "ac4f6d54",
   "metadata": {},
   "outputs": [],
   "source": [
    "# Train the data\n",
    "rf = RandomForestClassifier()\n",
    "rf.fit(x_train,y_train);\n",
    "y_pred = rf.predict(x_test)"
   ]
  },
  {
   "cell_type": "code",
   "execution_count": 14,
   "id": "b0ad7088",
   "metadata": {},
   "outputs": [
    {
     "name": "stdout",
     "output_type": "stream",
     "text": [
      "Prediction Accuracy: 95.0 %\n"
     ]
    }
   ],
   "source": [
    "# Calculate how often is the classifier correct\n",
    "print(\"Prediction Accuracy:\",(metrics.accuracy_score(y_test, y_pred)*100),\"%\")"
   ]
  },
  {
   "cell_type": "markdown",
   "id": "186d018a",
   "metadata": {},
   "source": [
    "### Method 2. Modelling the data using Decision Tree Classifer on the Wine Quality Dataset\n",
    "***"
   ]
  },
  {
   "cell_type": "code",
   "execution_count": 15,
   "id": "8d868462",
   "metadata": {},
   "outputs": [
    {
     "data": {
      "text/plain": [
       "(1599, 1279, 320)"
      ]
     },
     "execution_count": 15,
     "metadata": {},
     "output_type": "execute_result"
    }
   ],
   "source": [
    "# Show the sizes of the original, training and test datasets\n",
    "wine_df.index.size, x_train.index.size, x_test.index.size"
   ]
  },
  {
   "cell_type": "code",
   "execution_count": 16,
   "id": "3d65f4be",
   "metadata": {},
   "outputs": [],
   "source": [
    "# Train the data using decision tree classifier\n",
    "classifier = DecisionTreeClassifier(random_state=1)"
   ]
  },
  {
   "cell_type": "code",
   "execution_count": 17,
   "id": "72c8e899",
   "metadata": {},
   "outputs": [
    {
     "data": {
      "text/plain": [
       "DecisionTreeClassifier(random_state=1)"
      ]
     },
     "execution_count": 17,
     "metadata": {},
     "output_type": "execute_result"
    }
   ],
   "source": [
    "#Fit the Data\n",
    "classifier.fit(x_train, y_train)"
   ]
  },
  {
   "cell_type": "code",
   "execution_count": 18,
   "id": "9fb5aca0",
   "metadata": {},
   "outputs": [
    {
     "name": "stdout",
     "output_type": "stream",
     "text": [
      "[[  0   3   0]\n",
      " [  7 287  10]\n",
      " [  1   8   4]]\n"
     ]
    }
   ],
   "source": [
    "# Summarise the results of the predicted outcome using the test dataset\n",
    "y_pred = classifier.predict(x_test)\n",
    "print(confusion_matrix(y_test, y_pred))"
   ]
  },
  {
   "cell_type": "code",
   "execution_count": 19,
   "id": "f4b7ed8d",
   "metadata": {},
   "outputs": [
    {
     "name": "stdout",
     "output_type": "stream",
     "text": [
      "              precision    recall  f1-score   support\n",
      "\n",
      "   Excellent       0.00      0.00      0.00         3\n",
      "        Good       0.96      0.94      0.95       304\n",
      "        Poor       0.29      0.31      0.30        13\n",
      "\n",
      "    accuracy                           0.91       320\n",
      "   macro avg       0.42      0.42      0.42       320\n",
      "weighted avg       0.93      0.91      0.92       320\n",
      "\n"
     ]
    }
   ],
   "source": [
    "print(classification_report(y_test, y_pred))"
   ]
  },
  {
   "cell_type": "code",
   "execution_count": 20,
   "id": "2f8fdda9",
   "metadata": {},
   "outputs": [
    {
     "data": {
      "image/png": "[encoded data removed]",
      "text/plain": [
       "<Figure size 432x288 with 2 Axes>"
      ]
     },
     "metadata": {
      "needs_background": "light"
     },
     "output_type": "display_data"
    }
   ],
   "source": [
    "# Visualise the confusion matrix \n",
    "(sns.heatmap(confusion_matrix(y_test, y_pred), annot=True, linewidths = 0.01));"
   ]
  },
  {
   "cell_type": "markdown",
   "id": "5fd01f98",
   "metadata": {},
   "source": [
    "#### Interpreting the Results\n",
    "\n",
    "- Excellent: 0 out of 3 i.e 0% were classified correctly.  (3 were classified as good and 1 classified as poor)\n",
    "- Good: 304 out of a total of 320 i.e. 95% were classified correctly.  (7 classified as excellent and 10 classified as poor)\n",
    "- Poor: 4 out of of a total of 13 i.e. 30% were classified correctly.  (1 classified as excellent and 8 classified as good)"
   ]
  },
  {
   "cell_type": "code",
   "execution_count": 21,
   "id": "67e5977d",
   "metadata": {},
   "outputs": [
    {
     "name": "stdout",
     "output_type": "stream",
     "text": [
      "\n",
      "The total number of failed matches was 29 out of 320 i.e. 9.1 %\n"
     ]
    }
   ],
   "source": [
    "# Calculate the percentage failure rate\n",
    "df = pd.DataFrame({'Predicted':y_pred, 'Actual':y_test})\n",
    "df_Fail = df[df.Actual != df.Predicted].sort_values(by=['Predicted','Actual'])\n",
    "print(\"\\nThe total number of failed matches was\",df_Fail.index.size,\"out of\",x_test.index.size,\"i.e.\",round(df_Fail.index.size/x_test.index.size*100,1),\"%\")\n",
    "#df_Fail"
   ]
  },
  {
   "cell_type": "markdown",
   "id": "830ab1d4",
   "metadata": {},
   "source": [
    "<br/>\n",
    "\n",
    "### Classification Analysis on the Abalone Dataset\n",
    "__________________"
   ]
  },
  {
   "cell_type": "markdown",
   "id": "4fe4b16b",
   "metadata": {},
   "source": [
    "#### Analysing The Abalone Dataset\n",
    "________________"
   ]
  },
  {
   "cell_type": "markdown",
   "id": "e7dda8a2",
   "metadata": {},
   "source": [
    "#### Purpose of the Analysis\n",
    "\n",
    "The purpose of the analysis of the dataset is to predict the age of an abalone from its physical measurements (features) using machine learning rather than manually counting the number of rings on its shell ."
   ]
  },
  {
   "cell_type": "markdown",
   "id": "04193e3d",
   "metadata": {},
   "source": [
    "#### Import the Abalone Dataset"
   ]
  },
  {
   "cell_type": "code",
   "execution_count": 22,
   "id": "faf6d6b2",
   "metadata": {},
   "outputs": [],
   "source": [
    "abalone_df = pd.DataFrame(pd.read_csv(\"abalone.csv\" , names = None , index_col = None))\n",
    "abalone_df.columns=['Sex','Length', 'Diameter', 'Height','Whole_Weight', 'Schucked_Weight', 'Viscera_Weight', 'Shell_Weight','Age']\n",
    "abalone_df = abalone_df.replace('I','Infant')\n",
    "abalone_df = abalone_df.replace('M','Male')\n",
    "abalone_df = abalone_df.replace('F','Female')\n",
    "pd.set_option(\"display.max_rows\", None)   # Show the entire dataset\n",
    "pd.set_option('expand_frame_repr', False) # Print the dataframe on a single line\n"
   ]
  },
  {
   "cell_type": "code",
   "execution_count": 23,
   "id": "16d0bbad",
   "metadata": {},
   "outputs": [
    {
     "name": "stdout",
     "output_type": "stream",
     "text": [
      "                          ABALONE DATA SET- List of columns and data types                          \n",
      "\n",
      "<class 'pandas.core.frame.DataFrame'>\n",
      "RangeIndex: 4176 entries, 0 to 4175\n",
      "Data columns (total 9 columns):\n",
      " #   Column           Non-Null Count  Dtype  \n",
      "---  ------           --------------  -----  \n",
      " 0   Sex              4176 non-null   object \n",
      " 1   Length           4176 non-null   float64\n",
      " 2   Diameter         4176 non-null   float64\n",
      " 3   Height           4176 non-null   float64\n",
      " 4   Whole_Weight     4176 non-null   float64\n",
      " 5   Schucked_Weight  4176 non-null   float64\n",
      " 6   Viscera_Weight   4176 non-null   float64\n",
      " 7   Shell_Weight     4176 non-null   float64\n",
      " 8   Age              4176 non-null   int64  \n",
      "dtypes: float64(7), int64(1), object(1)\n",
      "memory usage: 293.8+ KB\n",
      "None\n",
      "\n"
     ]
    }
   ],
   "source": [
    "print (\"ABALONE DATA SET- List of columns and data types\".center(100))\n",
    "print (\"\")\n",
    "print (abalone_df.info())\n",
    "print (\"\")"
   ]
  },
  {
   "cell_type": "markdown",
   "id": "2a05d45e",
   "metadata": {},
   "source": [
    "#### Check if there are any empty cells in the dataset ###"
   ]
  },
  {
   "cell_type": "code",
   "execution_count": 24,
   "id": "7661dbd6",
   "metadata": {},
   "outputs": [
    {
     "name": "stdout",
     "output_type": "stream",
     "text": [
      "Note not printed due to the size of the dataset.  No null values identified\n"
     ]
    }
   ],
   "source": [
    "#Option to print the dataset and highlight any null values in red\n",
    "#abalone_df.style.highlight_null(null_color='red')\n",
    "\n",
    "#Option to print the dataset with True/False Values\n",
    "#print(abalone_df.isnull())  \n",
    "\n",
    "print(\"Note not printed due to the size of the dataset.  No null values identified\")"
   ]
  },
  {
   "cell_type": "markdown",
   "id": "3e8a02c0",
   "metadata": {},
   "source": [
    "#### Check if there are any zero values using 'min'"
   ]
  },
  {
   "cell_type": "code",
   "execution_count": 25,
   "id": "4416ce6b",
   "metadata": {},
   "outputs": [
    {
     "data": {
      "text/plain": [
       "Sex                Female\n",
       "Length              0.075\n",
       "Diameter            0.055\n",
       "Height                0.0\n",
       "Whole_Weight        0.002\n",
       "Schucked_Weight     0.001\n",
       "Viscera_Weight      0.001\n",
       "Shell_Weight        0.002\n",
       "Age                     1\n",
       "dtype: object"
      ]
     },
     "execution_count": 25,
     "metadata": {},
     "output_type": "execute_result"
    }
   ],
   "source": [
    "pd.set_option(\"display.precision\", 3)\n",
    "abalone_df.min()"
   ]
  },
  {
   "cell_type": "code",
   "execution_count": 26,
   "id": "980885a5",
   "metadata": {},
   "outputs": [
    {
     "data": {
      "text/plain": [
       "(4176, 9)"
      ]
     },
     "execution_count": 26,
     "metadata": {},
     "output_type": "execute_result"
    }
   ],
   "source": [
    "#Count before zero values are removed\n",
    "abalone_df.shape"
   ]
  },
  {
   "cell_type": "code",
   "execution_count": 27,
   "id": "0e993041",
   "metadata": {},
   "outputs": [
    {
     "data": {
      "text/html": [
       "<div>\n",
       "<style scoped>\n",
       "    .dataframe tbody tr th:only-of-type {\n",
       "        vertical-align: middle;\n",
       "    }\n",
       "\n",
       "    .dataframe tbody tr th {\n",
       "        vertical-align: top;\n",
       "    }\n",
       "\n",
       "    .dataframe thead th {\n",
       "        text-align: right;\n",
       "    }\n",
       "</style>\n",
       "<table border=\"1\" class=\"dataframe\">\n",
       "  <thead>\n",
       "    <tr style=\"text-align: right;\">\n",
       "      <th></th>\n",
       "      <th>Sex</th>\n",
       "      <th>Length</th>\n",
       "      <th>Diameter</th>\n",
       "      <th>Height</th>\n",
       "      <th>Whole_Weight</th>\n",
       "      <th>Schucked_Weight</th>\n",
       "      <th>Viscera_Weight</th>\n",
       "      <th>Shell_Weight</th>\n",
       "      <th>Age</th>\n",
       "    </tr>\n",
       "  </thead>\n",
       "  <tbody>\n",
       "    <tr>\n",
       "      <th>1256</th>\n",
       "      <td>Infant</td>\n",
       "      <td>0.430</td>\n",
       "      <td>0.34</td>\n",
       "      <td>0.0</td>\n",
       "      <td>0.428</td>\n",
       "      <td>0.206</td>\n",
       "      <td>0.086</td>\n",
       "      <td>0.115</td>\n",
       "      <td>8</td>\n",
       "    </tr>\n",
       "    <tr>\n",
       "      <th>3995</th>\n",
       "      <td>Infant</td>\n",
       "      <td>0.315</td>\n",
       "      <td>0.23</td>\n",
       "      <td>0.0</td>\n",
       "      <td>0.134</td>\n",
       "      <td>0.058</td>\n",
       "      <td>0.029</td>\n",
       "      <td>0.350</td>\n",
       "      <td>6</td>\n",
       "    </tr>\n",
       "  </tbody>\n",
       "</table>\n",
       "</div>"
      ],
      "text/plain": [
       "         Sex  Length  Diameter  Height  Whole_Weight  Schucked_Weight  Viscera_Weight  Shell_Weight  Age\n",
       "1256  Infant   0.430      0.34     0.0         0.428            0.206           0.086         0.115    8\n",
       "3995  Infant   0.315      0.23     0.0         0.134            0.058           0.029         0.350    6"
      ]
     },
     "execution_count": 27,
     "metadata": {},
     "output_type": "execute_result"
    }
   ],
   "source": [
    "# List samples where the value is zero in height (identified in min value above)\n",
    "abalone_df[abalone_df.Height == 0]"
   ]
  },
  {
   "cell_type": "code",
   "execution_count": 28,
   "id": "50f0d7ae",
   "metadata": {},
   "outputs": [],
   "source": [
    "# Remove the empty samples\n",
    "abalone_df = abalone_df[abalone_df.Height != 0]"
   ]
  },
  {
   "cell_type": "code",
   "execution_count": 29,
   "id": "6ce238d8",
   "metadata": {},
   "outputs": [
    {
     "name": "stdout",
     "output_type": "stream",
     "text": [
      "\n",
      "Number of non nil samples/columns is (4174, 9)\n"
     ]
    }
   ],
   "source": [
    "# Count after zero samples removed\n",
    "print (\"\")\n",
    "print (\"Number of non nil samples/columns is\",(abalone_df.shape))"
   ]
  },
  {
   "cell_type": "code",
   "execution_count": 30,
   "id": "d58d5ac2",
   "metadata": {},
   "outputs": [
    {
     "data": {
      "text/plain": [
       "4174"
      ]
     },
     "execution_count": 30,
     "metadata": {},
     "output_type": "execute_result"
    }
   ],
   "source": [
    "abalone_df.Age.count()"
   ]
  },
  {
   "cell_type": "markdown",
   "id": "2c8bd0f8",
   "metadata": {},
   "source": [
    "#### Basic analysis of the dataset"
   ]
  },
  {
   "cell_type": "code",
   "execution_count": 31,
   "id": "42fb7449",
   "metadata": {},
   "outputs": [
    {
     "name": "stdout",
     "output_type": "stream",
     "text": [
      "                     ABALONE DATA SET -  General information about the dataset                      \n",
      "\n",
      "          Length   Diameter     Height  Whole_Weight  Schucked_Weight  Viscera_Weight  Shell_Weight        Age\n",
      "count  4174.0000  4174.0000  4174.0000     4174.0000        4174.0000       4174.0000     4174.0000  4174.0000\n",
      "mean      0.5241     0.4080     0.1396        0.8291           0.3595          0.1807        0.2389     9.9339\n",
      "std       0.1201     0.0992     0.0417        0.4904           0.2220          0.1096        0.1392     3.2237\n",
      "min       0.0750     0.0550     0.0100        0.0020           0.0010          0.0005        0.0015     1.0000\n",
      "25%       0.4500     0.3500     0.1150        0.4421           0.1861          0.0935        0.1300     8.0000\n",
      "50%       0.5450     0.4250     0.1400        0.8000           0.3360          0.1710        0.2340     9.0000\n",
      "75%       0.6150     0.4800     0.1650        1.1538           0.5020          0.2530        0.3289    11.0000\n",
      "max       0.8150     0.6500     1.1300        2.8255           1.4880          0.7600        1.0050    29.0000\n"
     ]
    }
   ],
   "source": [
    "print (\"ABALONE DATA SET -  General information about the dataset\".center (100))\n",
    "print (\"\")\n",
    "pd.set_option(\"display.precision\", 4)\n",
    "print(abalone_df.describe())"
   ]
  },
  {
   "cell_type": "code",
   "execution_count": 32,
   "id": "f3098140",
   "metadata": {
    "scrolled": true
   },
   "outputs": [
    {
     "name": "stdout",
     "output_type": "stream",
     "text": [
      "                                 ABALONE DATA SET - First 5 Results                                 \n",
      "\n",
      "      Sex  Length  Diameter  Height  Whole_Weight  Schucked_Weight  Viscera_Weight  Shell_Weight  Age\n",
      "0    Male   0.350     0.265   0.090         0.226            0.100           0.049         0.070    7\n",
      "1  Female   0.530     0.420   0.135         0.677            0.257           0.141         0.210    9\n",
      "2    Male   0.440     0.365   0.125         0.516            0.215           0.114         0.155   10\n",
      "3  Infant   0.330     0.255   0.080         0.205            0.089           0.040         0.055    7\n",
      "4  Infant   0.425     0.300   0.095         0.351            0.141           0.077         0.120    8\n"
     ]
    }
   ],
   "source": [
    "print (\"ABALONE DATA SET - First 5 Results\".center (100))\n",
    "print (\"\")\n",
    "pd.set_option(\"display.precision\", 3)\n",
    "print (abalone_df.head())"
   ]
  },
  {
   "cell_type": "code",
   "execution_count": 33,
   "id": "e8c36fce",
   "metadata": {
    "scrolled": true
   },
   "outputs": [
    {
     "name": "stdout",
     "output_type": "stream",
     "text": [
      "                      ABALONE DATA SET - Number of Samples of each class (Sex)                      \n",
      "\n",
      "Sex\n",
      "Male      1527\n",
      "Infant    1340\n",
      "Female    1307\n",
      "dtype: int64\n"
     ]
    }
   ],
   "source": [
    "print (\"ABALONE DATA SET - Number of Samples of each class (Sex)\".center (100))\n",
    "print (\"\")\n",
    "print(abalone_df.value_counts('Sex'))"
   ]
  },
  {
   "cell_type": "code",
   "execution_count": 34,
   "id": "a5e5e282",
   "metadata": {},
   "outputs": [
    {
     "data": {
      "image/png": "[encoded data removed]",
      "text/plain": [
       "<Figure size 432x288 with 1 Axes>"
      ]
     },
     "metadata": {
      "needs_background": "light"
     },
     "output_type": "display_data"
    }
   ],
   "source": [
    "sns.countplot(x = abalone_df.Sex)\n",
    "plt.show()"
   ]
  },
  {
   "cell_type": "code",
   "execution_count": 35,
   "id": "f9ea4178",
   "metadata": {},
   "outputs": [],
   "source": [
    "# Create new dataframes for each of the 'Sex' Classes\n",
    "woman_df = abalone_df[abalone_df['Sex'] == 'Female']\n",
    "man_df = abalone_df[abalone_df['Sex'] == 'Male']\n",
    "child_df = abalone_df[abalone_df['Sex'] == 'Infant']"
   ]
  },
  {
   "cell_type": "code",
   "execution_count": 36,
   "id": "21eea4bf",
   "metadata": {
    "scrolled": true
   },
   "outputs": [
    {
     "name": "stdout",
     "output_type": "stream",
     "text": [
      "     ABALONE DATA SET -  General information about the dataset by class (Female, Male, Infant)      \n",
      "\n",
      "                                               Female                                               \n",
      "         Length  Diameter    Height  Whole_Weight  Schucked_Weight  Viscera_Weight  Shell_Weight       Age\n",
      "count  1307.000  1307.000  1307.000      1307.000         1307.000        1307.000      1307.000  1307.000\n",
      "mean      0.579     0.455     0.158         1.047            0.446           0.231         0.302    11.129\n",
      "std       0.086     0.071     0.040         0.430            0.199           0.098         0.126     3.104\n",
      "min       0.275     0.195     0.015         0.080            0.031           0.021         0.025     5.000\n",
      "25%       0.525     0.410     0.140         0.730            0.295           0.159         0.213     9.000\n",
      "50%       0.590     0.465     0.160         1.038            0.441           0.224         0.295    10.000\n",
      "75%       0.640     0.505     0.175         1.320            0.573           0.297         0.375    12.000\n",
      "max       0.815     0.650     1.130         2.657            1.488           0.590         1.005    29.000\n",
      "\n",
      "                                                Male                                                \n",
      "         Length  Diameter    Height  Whole_Weight  Schucked_Weight  Viscera_Weight  Shell_Weight       Age\n",
      "count  1527.000  1527.000  1527.000      1527.000         1527.000        1527.000      1527.000  1527.000\n",
      "mean      0.561     0.439     0.151         0.992            0.433           0.216         0.282    10.703\n",
      "std       0.103     0.084     0.035         0.471            0.223           0.105         0.131     3.025\n",
      "min       0.155     0.110     0.025         0.015            0.006           0.003         0.005     3.000\n",
      "25%       0.505     0.395     0.130         0.673            0.277           0.146         0.190     9.000\n",
      "50%       0.580     0.455     0.155         0.976            0.422           0.210         0.276    10.000\n",
      "75%       0.630     0.500     0.175         1.266            0.566           0.278         0.355    12.000\n",
      "max       0.780     0.630     0.515         2.825            1.351           0.760         0.897    27.000\n",
      "\n",
      "                                               Infant                                               \n",
      "         Length  Diameter    Height  Whole_Weight  Schucked_Weight  Viscera_Weight  Shell_Weight       Age\n",
      "count  1340.000  1340.000  1340.000      1340.000         1340.000       1.340e+03      1340.000  1340.000\n",
      "mean      0.428     0.327     0.108         0.432            0.191       9.206e-02         0.128     7.892\n",
      "std       0.109     0.088     0.032         0.286            0.128       6.256e-02         0.085     2.513\n",
      "min       0.075     0.055     0.010         0.002            0.001       5.000e-04         0.002     1.000\n",
      "25%       0.360     0.270     0.089         0.205            0.090       4.250e-02         0.064     6.000\n",
      "50%       0.435     0.335     0.110         0.384            0.170       8.050e-02         0.113     8.000\n",
      "75%       0.510     0.391     0.130         0.600            0.271       1.300e-01         0.178     9.000\n",
      "max       0.725     0.550     0.220         2.050            0.773       4.405e-01         0.655    21.000\n"
     ]
    }
   ],
   "source": [
    "print (\"ABALONE DATA SET -  General information about the dataset by class (Female, Male, Infant)\".center (100))\n",
    "print (\"\")\n",
    "pd.set_option(\"display.precision\", 3)\n",
    "pd.set_option('expand_frame_repr', False) # Print the dataframe on a single line\n",
    "print (\"Female\".center (100))\n",
    "#print(abalone_df[abalone_df['Sex']=='Female'].describe())\n",
    "print(woman_df.describe())\n",
    "print(\"\")\n",
    "print (\"Male\".center (100))\n",
    "print(man_df.describe())\n",
    "print(\"\")\n",
    "print (\"Infant\".center (100))\n",
    "print(child_df.describe())"
   ]
  },
  {
   "cell_type": "code",
   "execution_count": 37,
   "id": "676b2298",
   "metadata": {},
   "outputs": [
    {
     "name": "stdout",
     "output_type": "stream",
     "text": [
      "ABALONE DATA SET - Mean, Median, Standard Deviation, Min and Max Values by Sex\n",
      "\n",
      "              Length (mm):              \n",
      "        mean  median   std   min   max\n",
      "Sex                                   \n",
      "Female  0.58    0.59  0.09  0.28  0.81\n",
      "Infant  0.43    0.43  0.11  0.07  0.72\n",
      "Male    0.56    0.58  0.10  0.15  0.78\n",
      "\n",
      "             Diameter (mm):             \n",
      "        mean  median   std   min   max\n",
      "Sex                                   \n",
      "Female  0.45    0.47  0.07  0.20  0.65\n",
      "Infant  0.33    0.34  0.09  0.06  0.55\n",
      "Male    0.44    0.46  0.08  0.11  0.63\n",
      "\n",
      "              Height (mm):              \n",
      "        mean  median   std   min   max\n",
      "Sex                                   \n",
      "Female  0.16    0.16  0.04  0.01  1.13\n",
      "Infant  0.11    0.11  0.03  0.01  0.22\n",
      "Male    0.15    0.15  0.03  0.03  0.52\n",
      "\n",
      "         Whole Weight (grams):          \n",
      "         mean  median    std    min    max\n",
      "Sex                                       \n",
      "Female  1.047   1.038  0.430  0.080  2.657\n",
      "Infant  0.432   0.384  0.286  0.002  2.050\n",
      "Male    0.992   0.976  0.471  0.015  2.825\n",
      "\n",
      "        Schucked Weight (grams):        \n",
      "         mean  median    std    min    max\n",
      "Sex                                       \n",
      "Female  0.446   0.441  0.199  0.031  1.488\n",
      "Infant  0.191   0.170  0.128  0.001  0.773\n",
      "Male    0.433   0.422  0.223  0.006  1.351\n",
      "\n",
      "        Visceral Weight (grams):        \n",
      "          mean  median     std     min     max\n",
      "Sex                                           \n",
      "Female  0.2307  0.2240  0.0976  0.0210  0.5900\n",
      "Infant  0.0921  0.0805  0.0626  0.0005  0.4405\n",
      "Male    0.2156  0.2100  0.1049  0.0030  0.7600\n",
      "\n",
      "         Shell Weight (grams):          \n",
      "         mean  median    std    min    max\n",
      "Sex                                       \n",
      "Female  0.302   0.295  0.126  0.025  1.005\n",
      "Infant  0.128   0.113  0.085  0.002  0.655\n",
      "Male    0.282   0.276  0.131  0.005  0.897\n",
      "\n",
      "         Age (number of rings):         \n",
      "        mean  median  std  min  max\n",
      "Sex                                \n",
      "Female  11.1      10  3.1    5   29\n",
      "Infant   7.9       8  2.5    1   21\n",
      "Male    10.7      10  3.0    3   27\n"
     ]
    }
   ],
   "source": [
    "print (\"ABALONE DATA SET - Mean, Median, Standard Deviation, Min and Max Values by Sex\".center (30))\n",
    "print (\"\")\n",
    "#pd.set_option('expand_frame_repr', True) # Print the dataframe on a single line\n",
    "pd.set_option(\"display.precision\", 2) # Use 2 decimal places in output display\n",
    "print (\"Length (mm):\".center(40))\n",
    "print (abalone_df.groupby(['Sex']).agg(['mean', 'median', 'std', 'min', 'max']).Length)\n",
    "print (\"\")\n",
    "print (\"Diameter (mm):\".center(40))\n",
    "print (abalone_df.groupby(['Sex']).agg(['mean', 'median' , 'std', 'min', 'max']).Diameter)\n",
    "print (\"\")\n",
    "print (\"Height (mm):\".center(40))\n",
    "print (abalone_df.groupby(['Sex']).agg(['mean', 'median' , 'std', 'min', 'max']).Height)\n",
    "print (\"\")\n",
    "pd.set_option(\"display.precision\", 3)\n",
    "print (\"Whole Weight (grams):\".center(40))\n",
    "print (abalone_df.groupby(['Sex']).agg(['mean', 'median' , 'std', 'min', 'max']).Whole_Weight)\n",
    "print (\"\")\n",
    "print (\"Schucked Weight (grams):\".center(40))\n",
    "print (abalone_df.groupby(['Sex']).agg(['mean', 'median' , 'std', 'min', 'max']).Schucked_Weight)\n",
    "print (\"\")\n",
    "pd.set_option(\"display.precision\", 4)\n",
    "print (\"Visceral Weight (grams):\".center(40))\n",
    "print (abalone_df.groupby(['Sex']).agg(['mean', 'median' , 'std', 'min', 'max']).Viscera_Weight)\n",
    "print (\"\")\n",
    "pd.set_option(\"display.precision\", 3)\n",
    "print (\"Shell Weight (grams):\".center(40))\n",
    "print (abalone_df.groupby(['Sex']).agg(['mean', 'median' , 'std', 'min', 'max']).Shell_Weight)\n",
    "print (\"\")\n",
    "pd.set_option(\"display.precision\", 1)\n",
    "print (\"Age (number of rings):\".center(40))\n",
    "print (abalone_df.groupby(['Sex']).agg(['mean', 'median' , 'std', 'min', 'max']).Age)\n"
   ]
  },
  {
   "cell_type": "code",
   "execution_count": 38,
   "id": "5cf2bf51",
   "metadata": {},
   "outputs": [
    {
     "data": {
      "image/png": "[encoded data removed]",
      "text/plain": [
       "<Figure size 720x720 with 2 Axes>"
      ]
     },
     "metadata": {
      "needs_background": "light"
     },
     "output_type": "display_data"
    }
   ],
   "source": [
    "# Heatmap to determine the greatest correlation between the variables in the dataset\n",
    "plt.figure(figsize=(10, 10))\n",
    "corr = abalone_df.corr()\n",
    "_ = sns.heatmap(corr, annot=True)"
   ]
  },
  {
   "cell_type": "markdown",
   "id": "afe52c05",
   "metadata": {},
   "source": [
    "<br/>\n",
    "\n",
    "### Visualise the data by Age & Sex\n",
    "_____________"
   ]
  },
  {
   "cell_type": "code",
   "execution_count": 39,
   "id": "ad299332",
   "metadata": {},
   "outputs": [
    {
     "data": {
      "image/png": "[encoded data removed]",
      "text/plain": [
       "<Figure size 504.125x432 with 1 Axes>"
      ]
     },
     "metadata": {
      "needs_background": "light"
     },
     "output_type": "display_data"
    }
   ],
   "source": [
    "Age = sns.FacetGrid (abalone_df, height = 6, hue = \"Sex\").map(sns.histplot,\"Age\").add_legend().fig.suptitle('Age By Sex') \n",
    "sns.set_style (\"whitegrid\")\n",
    "sns.set_style (\"ticks\")\n",
    "a4_dims = (11.7, 8.27)\n",
    "fig , Age = sns.figsize = a4_dims\n",
    "plt.show()\n"
   ]
  },
  {
   "cell_type": "code",
   "execution_count": 40,
   "id": "8aeb6fc7",
   "metadata": {},
   "outputs": [
    {
     "name": "stdout",
     "output_type": "stream",
     "text": [
      "\n",
      "                                Chart of Ages - All Sexes                                 \n"
     ]
    },
    {
     "data": {
      "image/png": "[encoded data removed]",
      "text/plain": [
       "<Figure size 720x288 with 2 Axes>"
      ]
     },
     "metadata": {},
     "output_type": "display_data"
    }
   ],
   "source": [
    "print(\"\")\n",
    "print((\"Chart of Ages - All Sexes\").center(90))\n",
    "#plt.xticks(range(0, 31, 4))\n",
    "#plt.xlim(0, 30)\n",
    "#plt.figure(figsize=(cols * 5, rows * 5))\n",
    "plt.rcParams[\"figure.figsize\"] = [10.00, 4]\n",
    "plt.rcParams[\"figure.autolayout\"] = True\n",
    "f, axes = plt.subplots(1, 2)\n",
    "\n",
    "sns.histplot(x = abalone_df[\"Age\"], kde=True, bins=range(0, 31, 2), color = \"purple\", ax=axes[0]).set (title='Histogram of Ages - all sexes') \n",
    "sns.boxplot(x=abalone_df[\"Age\"], color = \"purple\", ax=axes[1]).set (title='Boxplot of Ages - all sexes')\n",
    "plt.show()"
   ]
  },
  {
   "cell_type": "code",
   "execution_count": 41,
   "id": "8306b5a2",
   "metadata": {},
   "outputs": [
    {
     "name": "stdout",
     "output_type": "stream",
     "text": [
      "\n",
      "                                    Chart of Male Ages                                    \n"
     ]
    },
    {
     "data": {
      "image/png": "[encoded data removed]",
      "text/plain": [
       "<Figure size 720x288 with 2 Axes>"
      ]
     },
     "metadata": {},
     "output_type": "display_data"
    }
   ],
   "source": [
    "print(\"\")\n",
    "print((\"Chart of Male Ages\").center(90))\n",
    "plt.rcParams[\"figure.figsize\"] = [10.00, 4]\n",
    "plt.rcParams[\"figure.autolayout\"] = True\n",
    "f, axes = plt.subplots(1, 2)\n",
    "sns.histplot(x = man_df[\"Age\"], kde=True, bins=range(0, 31, 2), color = \"blue\", ax=axes[0]).set (title='Hisogram of Male Ages') \n",
    "sns.boxplot(x=man_df[\"Age\"], color = \"blue\", ax=axes[1]).set (title='Boxplot of Male Ages')\n",
    "plt.show()"
   ]
  },
  {
   "cell_type": "code",
   "execution_count": 42,
   "id": "9c28f6c8",
   "metadata": {},
   "outputs": [
    {
     "name": "stdout",
     "output_type": "stream",
     "text": [
      "\n",
      "                                   Chart of Female Ages                                   \n"
     ]
    },
    {
     "data": {
      "image/png": "[encoded data removed]",
      "text/plain": [
       "<Figure size 720x288 with 2 Axes>"
      ]
     },
     "metadata": {},
     "output_type": "display_data"
    }
   ],
   "source": [
    "print(\"\")\n",
    "print((\"Chart of Female Ages\").center(90))\n",
    "\n",
    "plt.rcParams[\"figure.figsize\"] = [10.00, 4]\n",
    "plt.rcParams[\"figure.autolayout\"] = True\n",
    "f, axes = plt.subplots(1, 2)\n",
    "sns.histplot(x = woman_df[\"Age\"], kde=True, bins=range(0, 31, 2), color = \"red\", ax=axes[0]).set (title='Hisogram of Female ages')                                                                                                \n",
    "sns.boxplot(x=woman_df[\"Age\"], color = \"red\", ax=axes[1]).set (title='Boxplot of Female Ages')\n",
    "plt.show()"
   ]
  },
  {
   "cell_type": "code",
   "execution_count": 43,
   "id": "8ee5b178",
   "metadata": {},
   "outputs": [
    {
     "name": "stdout",
     "output_type": "stream",
     "text": [
      "\n",
      "                                   Chart of Infant Ages                                   \n"
     ]
    },
    {
     "data": {
      "image/png": "[encoded data removed]",
      "text/plain": [
       "<Figure size 720x360 with 2 Axes>"
      ]
     },
     "metadata": {},
     "output_type": "display_data"
    }
   ],
   "source": [
    "print(\"\")\n",
    "print((\"Chart of Infant Ages\").center(90))\n",
    "\n",
    "plt.rcParams[\"figure.figsize\"] = [10.00, 5]\n",
    "plt.rcParams[\"figure.autolayout\"] = True\n",
    "f, axes = plt.subplots(1, 2)\n",
    "sns.histplot(x = child_df[\"Age\"], kde=True, bins=range(0, 31, 2), color = \"green\", ax=axes[0]).set (title='Hisogram of Infant Ages') \n",
    "sns.boxplot(x=child_df[\"Age\"], color = \"green\", ax=axes[1]).set (title='\\nBoxplot of Infant Ages')\n",
    "plt.show()"
   ]
  },
  {
   "cell_type": "markdown",
   "id": "5b04305e",
   "metadata": {},
   "source": [
    "#### Box Plots - Excluding Outliers"
   ]
  },
  {
   "cell_type": "markdown",
   "id": "e45fc888",
   "metadata": {},
   "source": [
    "#### Remove Outliers identified by the boxplot above"
   ]
  },
  {
   "cell_type": "code",
   "execution_count": 44,
   "id": "5419e3f2",
   "metadata": {},
   "outputs": [],
   "source": [
    "# Remove the samples outside of the normal range\n",
    "newabalone_df = abalone_df[abalone_df.Age >= 2]\n",
    "newabalone_df = abalone_df[abalone_df.Age <= 15]"
   ]
  },
  {
   "cell_type": "code",
   "execution_count": 45,
   "id": "2988dba1",
   "metadata": {},
   "outputs": [
    {
     "name": "stdout",
     "output_type": "stream",
     "text": [
      "The number of samples removed from the original dataset was 261 out of 4174\n"
     ]
    }
   ],
   "source": [
    "print(\"The number of samples removed from the original dataset was\",abalone_df.Age.count() - newabalone_df.Age.count(),\"out of\",abalone_df.Age.count())"
   ]
  },
  {
   "cell_type": "markdown",
   "id": "0aca1c2b",
   "metadata": {},
   "source": [
    "#### Boxplots after removal of outliers"
   ]
  },
  {
   "cell_type": "code",
   "execution_count": 46,
   "id": "4c13e32f",
   "metadata": {},
   "outputs": [
    {
     "name": "stdout",
     "output_type": "stream",
     "text": [
      "\n",
      "                  Age (number of rings - all sexes):                  \n"
     ]
    },
    {
     "data": {
      "image/png": "[encoded data removed]",
      "text/plain": [
       "<Figure size 504x360 with 1 Axes>"
      ]
     },
     "metadata": {},
     "output_type": "display_data"
    }
   ],
   "source": [
    "print(\"\")\n",
    "print((\"Age (number of rings - all sexes):\").center(70))\n",
    "plt.figure(figsize=(7, 5))\n",
    "sns.boxplot(data=newabalone_df, x='Sex', y='Age')\n",
    "plt.show()"
   ]
  },
  {
   "cell_type": "markdown",
   "id": "c4c6456d",
   "metadata": {},
   "source": [
    "<br/>\n",
    "\n",
    "### Assess the degree of correlation between the variables\n",
    "_____________"
   ]
  },
  {
   "cell_type": "code",
   "execution_count": null,
   "id": "3c6e2961",
   "metadata": {},
   "outputs": [
    {
     "name": "stdout",
     "output_type": "stream",
     "text": [
      "\n",
      "                  ABALONE DATA SET SCATTERPLOT GRID - Compare All Variables by Sex                  \n"
     ]
    }
   ],
   "source": [
    "# ABALONE DATA SET - SCATTERPLOT GRID COMPARING ALL VARIABLES\n",
    "sns.set_style (\"whitegrid\")\n",
    "#sns.set_style (\"ticks\")\n",
    "print(\"\")\n",
    "print((\"ABALONE DATA SET SCATTERPLOT GRID - Compare All Variables by Sex\").center(100))\n",
    "sns.pairplot (newabalone_df, hue=\"Sex\", height=3);\n",
    "plt.show()"
   ]
  },
  {
   "cell_type": "code",
   "execution_count": null,
   "id": "4665e0b8",
   "metadata": {},
   "outputs": [],
   "source": [
    "# ABALONE DATA SET - SCATTERPLOT GRID WITH REGRESSION LINES (Age only)\n",
    "ax = sns.pairplot (newabalone_df, hue=\"Sex\", height=7, kind = \"reg\", y_vars=[\"Age\"], x_vars=['Length', 'Diameter', 'Height','Whole_Weight', 'Schucked_Weight', 'Viscera_Weight', 'Shell_Weight']);\n",
    "plt.title('title', loc ='left')\n",
    "plt.subplots_adjust(top=0.9)\n",
    "ax.fig.suptitle (\"ABALONE DATA SET SCATTERPLOT GRID - Compare all variables with age by Sex\", fontsize = 20)\n",
    "plt.show()"
   ]
  },
  {
   "cell_type": "code",
   "execution_count": null,
   "id": "5b946879",
   "metadata": {},
   "outputs": [],
   "source": [
    "# Heatmap to determine the greatest correlation between age and the other variables\n",
    "plt.figure(figsize=(10, 10))\n",
    "corr = newabalone_df.corr()\n",
    "_ = sns.heatmap(corr, annot=True)"
   ]
  },
  {
   "cell_type": "markdown",
   "id": "10c603dc",
   "metadata": {},
   "source": [
    "#### Conclusion:\n",
    "There is some correlation between the physical attributes of the abalones and their age but it is not a perfect predictor as the highest correlation is 63% <Br/>"
   ]
  },
  {
   "cell_type": "code",
   "execution_count": null,
   "id": "12b37c98",
   "metadata": {
    "scrolled": true
   },
   "outputs": [],
   "source": [
    "# ABALONE DATA SET - Taking a closer look at the relationship between Age and Height/Shell Weight:\n",
    "sns.set (style = \"whitegrid\", palette ='Set2')\n",
    "ax = sns.scatterplot (y = \"Height\", x =\"Age\", hue = \"Sex\", data = newabalone_df)\n",
    "ax.set_title (\"Scatterplot Age vs Height\")\n",
    "plt.show()"
   ]
  },
  {
   "cell_type": "code",
   "execution_count": null,
   "id": "c1f94dda",
   "metadata": {},
   "outputs": [],
   "source": [
    "ax = sns.scatterplot (y = \"Shell_Weight\", x =\"Age\", hue = \"Sex\", data = newabalone_df)\n",
    "ax.set_title (\"Scatterplot Age vs Shell_Weight\")\n",
    "plt.show()"
   ]
  },
  {
   "cell_type": "markdown",
   "id": "8e299848",
   "metadata": {},
   "source": [
    "'Height' and 'Shell weight' are the variables with the greatest correlation to age"
   ]
  },
  {
   "cell_type": "markdown",
   "id": "5be89b98",
   "metadata": {},
   "source": [
    "### Method 3 - Linear Regression\n",
    "***"
   ]
  },
  {
   "cell_type": "code",
   "execution_count": null,
   "id": "a430b489",
   "metadata": {},
   "outputs": [],
   "source": [
    "# Create a linear regression model instance.\n",
    "m = lm.LinearRegression()"
   ]
  },
  {
   "cell_type": "code",
   "execution_count": null,
   "id": "7f1c2c13",
   "metadata": {},
   "outputs": [],
   "source": [
    "# linear regression on all variables to predict Age.\n",
    "x = newabalone_df[['Length', 'Diameter', 'Height','Whole_Weight', 'Schucked_Weight', 'Viscera_Weight', 'Shell_Weight'\n",
    "]]\n",
    "y = newabalone_df['Age']"
   ]
  },
  {
   "cell_type": "code",
   "execution_count": null,
   "id": "1f704a9f",
   "metadata": {},
   "outputs": [],
   "source": [
    "# Ask our model to fit the data.\n",
    "m.fit(x, y)"
   ]
  },
  {
   "cell_type": "code",
   "execution_count": null,
   "id": "48e8f8df",
   "metadata": {},
   "outputs": [],
   "source": [
    "# Here's our intercept.\n",
    "m.intercept_"
   ]
  },
  {
   "cell_type": "code",
   "execution_count": null,
   "id": "ab5cfee8",
   "metadata": {},
   "outputs": [],
   "source": [
    "# Here's our coefficients, in order.\n",
    "m.coef_"
   ]
  },
  {
   "cell_type": "code",
   "execution_count": null,
   "id": "1c7c5e91",
   "metadata": {},
   "outputs": [],
   "source": [
    "# See how good our fit is.\n",
    "print(\"The % of correct values generated by the linear regression model was\",round(m.score(x, y)*100,2),\"%\")"
   ]
  },
  {
   "cell_type": "code",
   "execution_count": null,
   "id": "9d28f118",
   "metadata": {},
   "outputs": [],
   "source": [
    "# Calculating the score manually.\n",
    "t, u, v, w, x1, y1, z = m.coef_\n",
    "c = m.intercept_\n",
    "y_avg = y.mean()\n",
    "\n",
    "a = ((y - (t * x['Length'] + u * x['Diameter'] + v * x['Height'] + w * x['Whole_Weight'] + x1 * x[ 'Schucked_Weight'] + y1 * x['Viscera_Weight'] + z * x['Shell_Weight'] + c))**2).sum()\n",
    "b = ((y - y.mean())**2).sum()\n",
    "print(\"The % of correct values generated by the linear regression model was\",round((1 - (a/b))*100,2),\"%\")"
   ]
  },
  {
   "cell_type": "markdown",
   "id": "5a30ecc0",
   "metadata": {},
   "source": [
    "#### References\n",
    "\n",
    "[1] https://www.tutorialspoint.com/scikit_learn/scikit_learn_introduction.html\n",
    "\n",
    "[2] https://www.tutorialspoint.com/scikit_learn/scikit_learn_tutorial.pdf\n",
    "\n",
    "[3] https://www.springboard.com/library/machine-learning-engineering/scikit-learn-vs-tensorflow/#:~:text=Scikit-Learn%20is%20an%20open-source%20package%20for%20creating%20and,includes%20tools%20to%20help%20you%20preprocess%20your%20dataset.\n",
    "\n",
    "[4] https://machinelearningmastery.com/supervised-and-unsupervised-machine-learning-algorithms/\n",
    "\n",
    "[5] https://dataaspirant.com/unsupervised-learning-algorithms/\n",
    "\n",
    "[6] https://www.tutorialspoint.com/scikit_learn/scikit_learn_modelling_process.html\n",
    "\n",
    "[7] https://www.geeksforgeeks.org/introduction-to-factor-analytics/#:~:text=The%20factor%20analysis%20technique%20extracts%20the%20maximum%20common,so%20it%20is%20quite%20related%20to%20data%20mining.  (Factor Analysis)\n",
    "\n",
    "[8]  https://www.simplilearn.com/10-algorithms-machine-learning-engineers-need-to-know-article#:~:text=%20List%20of%20Popular%20Machine%20Learning%20Algorithms%20,learning%20is%20one%20of%20the%20most...%20More%20\n",
    "\n",
    "[9] https://archive.ics.uci.edu/ml/datasets/Abalone\n",
    "\n",
    "[10]https://www.researchgate.net/profile/Ayodejilearning:Salau/publication/330702663/figure/fig2/AS:720339474587651@1548753722728/Machine-learning-algorithms-a-Supervised-learning-In-this-type-of-learning-the-output.ppm- pic-machine learning\n",
    "\n",
    "[11] https://www.kaggle.com/rodolfomendes/abalone-exploratory-data-analysis\n",
    "\n",
    "[12] scikit-learn.org/stable/index.html\n",
    "\n",
    "[13] https://stackabuse.com/decision-trees-in-python-with-scikit-learn/ decision trees\n",
    "\n",
    "[14] https://medium.com/analytics-vidhya/visually-interpreting-the-confusion-matrix-787a70b65678 confusion matrix"
   ]
  },
  {
   "cell_type": "code",
   "execution_count": null,
   "id": "90a417a4",
   "metadata": {},
   "outputs": [],
   "source": [
    "####End"
   ]
  },
  {
   "cell_type": "code",
   "execution_count": null,
   "id": "80541fdf",
   "metadata": {},
   "outputs": [],
   "source": []
  }
 ],
 "metadata": {
  "kernelspec": {
   "display_name": "Python 3",
   "language": "python",
   "name": "python3"
  },
  "language_info": {
   "codemirror_mode": {
    "name": "ipython",
    "version": 3
   },
   "file_extension": ".py",
   "mimetype": "text/x-python",
   "name": "python",
   "nbconvert_exporter": "python",
   "pygments_lexer": "ipython3",
   "version": "3.8.8"
  }
 },
 "nbformat": 4,
 "nbformat_minor": 5
}
