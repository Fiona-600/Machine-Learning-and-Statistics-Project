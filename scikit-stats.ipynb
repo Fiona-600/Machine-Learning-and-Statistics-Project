{
 "cells": [
  {
   "cell_type": "markdown",
   "id": "15ec200c",
   "metadata": {},
   "source": [
    "#### Machine Learning and Statistics - 2021 Project Submission\n",
    "\n",
    "#### GMIT Higher Diploma in Data Analytics\n",
    "\n",
    "#### Submitted by Fiona Lee - 19 December 2021\n",
    "<br/>"
   ]
  },
  {
   "cell_type": "markdown",
   "id": "69eaa042",
   "metadata": {},
   "source": [
    "### Overview of the Scipy.stats python library\n",
    "___________________\n",
    "\n"
   ]
  },
  {
   "cell_type": "markdown",
   "id": "ed9e7170",
   "metadata": {},
   "source": [
    "##### What is Scipy.stats?\n",
    "\n",
    "Scipy.stats is a statistics libraray for Python containing probability distributions, summary and frequency statistics, correlation functions and statistical tests, masked statistics, kernel density estimation, quasi-Monte Carlo functionality, and more.\n",
    "\n"
   ]
  },
  {
   "cell_type": "markdown",
   "id": "de2384c1",
   "metadata": {},
   "source": [
    "##### Distributions\n",
    "Each univariate distribution has its own subclass as described in the following table:\n",
    "\n",
    "- ##### rv_continuous\n",
    "\n",
    "A generic continuous random variable class meant for subclassing\n",
    "\n",
    "- ##### rv_discrete\n",
    "\n",
    "A generic discrete random variable class meant for subclassing\n",
    "\n",
    "- ##### rv_histogram\n",
    "\n",
    "Generates a distribution given by a histogram"
   ]
  },
  {
   "cell_type": "markdown",
   "id": "fbd640d0",
   "metadata": {},
   "source": [
    "#### What does Scipy.stats do & what is is it used for?¶"
   ]
  },
  {
   "cell_type": "code",
   "execution_count": null,
   "id": "dbd3255a",
   "metadata": {},
   "outputs": [],
   "source": []
  },
  {
   "cell_type": "markdown",
   "id": "1d138f18",
   "metadata": {},
   "source": [
    "#### References:\n",
    "\n",
    "https://docs.scipy.org/doc/scipy/reference/stats.html\n",
    "\n",
    "https://www.tutorialspoint.com/scipy/scipy_stats.htm\n",
    "\n",
    "http://specminor.org/2017/01/11/python-descriptive-statistics-scipy.html#:~:text=The%20statistics%20library%20par%20excellence%20for%20Python%20is,bunch%20of%20descriptive%20statistics%20at%20once%2C%20scipy.stats.describe%20%28%29%3A"
   ]
  },
  {
   "cell_type": "code",
   "execution_count": null,
   "id": "4494c783",
   "metadata": {},
   "outputs": [],
   "source": []
  }
 ],
 "metadata": {
  "kernelspec": {
   "display_name": "Python 3",
   "language": "python",
   "name": "python3"
  },
  "language_info": {
   "codemirror_mode": {
    "name": "ipython",
    "version": 3
   },
   "file_extension": ".py",
   "mimetype": "text/x-python",
   "name": "python",
   "nbconvert_exporter": "python",
   "pygments_lexer": "ipython3",
   "version": "3.8.8"
  }
 },
 "nbformat": 4,
 "nbformat_minor": 5
}
